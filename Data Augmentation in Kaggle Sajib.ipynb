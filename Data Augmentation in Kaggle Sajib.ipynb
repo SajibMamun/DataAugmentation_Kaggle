{
 "cells": [
  {
   "cell_type": "code",
   "execution_count": 1,
   "id": "9b4e6c8c",
   "metadata": {
    "execution": {
     "iopub.execute_input": "2023-10-28T04:34:43.240860Z",
     "iopub.status.busy": "2023-10-28T04:34:43.240009Z",
     "iopub.status.idle": "2023-10-28T04:34:43.251468Z",
     "shell.execute_reply": "2023-10-28T04:34:43.250463Z"
    },
    "papermill": {
     "duration": 0.017072,
     "end_time": "2023-10-28T04:34:43.253810",
     "exception": false,
     "start_time": "2023-10-28T04:34:43.236738",
     "status": "completed"
    },
    "tags": []
   },
   "outputs": [
    {
     "name": "stdout",
     "output_type": "stream",
     "text": [
      "Working directory is now empty.\n"
     ]
    }
   ],
   "source": [
    "import os\n",
    "import shutil\n",
    "\n",
    "# Define the path to the working directory\n",
    "working_directory_path = '/kaggle/working'\n",
    "\n",
    "# List all files and directories in the working directory\n",
    "files_and_dirs = os.listdir(working_directory_path)\n",
    "\n",
    "# Delete all files and directories in the working directory\n",
    "for item in files_and_dirs:\n",
    "    item_path = os.path.join(working_directory_path, item)\n",
    "    if os.path.isfile(item_path):\n",
    "        os.remove(item_path)\n",
    "    elif os.path.isdir(item_path):\n",
    "        shutil.rmtree(item_path)\n",
    "\n",
    "# Verify that the working directory is empty\n",
    "if not os.listdir(working_directory_path):\n",
    "    print(\"Working directory is now empty.\")\n",
    "else:\n",
    "    print(\"Failed to clear the working directory.\")\n",
    "\n"
   ]
  },
  {
   "cell_type": "code",
   "execution_count": 2,
   "id": "b93f9d7f",
   "metadata": {
    "execution": {
     "iopub.execute_input": "2023-10-28T04:34:43.260415Z",
     "iopub.status.busy": "2023-10-28T04:34:43.259997Z",
     "iopub.status.idle": "2023-10-28T04:40:23.455506Z",
     "shell.execute_reply": "2023-10-28T04:40:23.454342Z"
    },
    "papermill": {
     "duration": 340.202445,
     "end_time": "2023-10-28T04:40:23.457906",
     "exception": false,
     "start_time": "2023-10-28T04:34:43.255461",
     "status": "completed"
    },
    "tags": []
   },
   "outputs": [],
   "source": [
    "# Import necessary libraries\n",
    "import os\n",
    "import numpy as np\n",
    "from PIL import Image\n",
    "from tensorflow.keras.preprocessing.image import ImageDataGenerator\n",
    "\n",
    "# Define paths to your Kaggle dataset folders\n",
    "original_data_path = '/kaggle/input/skin-disease-dataset/3. Atopic Dermatitis - 1.25k'  # Adjust to your Kaggle dataset path\n",
    "augmented_data_path = '/kaggle/working/Augmented Data/Atopic Dermatitis/'  # Output path in Kaggle working directory\n",
    "\n",
    "# Create the ImageDataGenerator with desired augmentation settings\n",
    "datagen = ImageDataGenerator(\n",
    "    rotation_range=45,\n",
    "    width_shift_range=0.2,\n",
    "    height_shift_range=0.2,\n",
    "    shear_range=0.3,\n",
    "    zoom_range=0.3,\n",
    "    horizontal_flip=True,\n",
    "    fill_mode='nearest'\n",
    ")\n",
    "\n",
    "# Load the original images\n",
    "original_images = []\n",
    "\n",
    "for filename in os.listdir(original_data_path):\n",
    "    img = Image.open(os.path.join(original_data_path, filename))\n",
    "    img = np.array(img)  # Convert to a NumPy array if needed\n",
    "    original_images.append(img)\n",
    "\n",
    "# Calculate the number of augmentations needed per image\n",
    "target_num_images = 8000\n",
    "augmentations_per_image = target_num_images // len(original_images)\n",
    "\n",
    "# Create the augmented data folder in Kaggle working directory\n",
    "os.makedirs(augmented_data_path, exist_ok=True)\n",
    "\n",
    "# Augment the data and save the augmented images\n",
    "for i, img in enumerate(original_images):\n",
    "    img = img.reshape((1,) + img.shape)\n",
    "    for j, batch in enumerate(datagen.flow(img, save_to_dir=augmented_data_path, save_prefix=f'augmented_{i}_', save_format='jpg')):\n",
    "        if j >= augmentations_per_image:\n",
    "            break\n"
   ]
  },
  {
   "cell_type": "code",
   "execution_count": 3,
   "id": "fbece776",
   "metadata": {
    "execution": {
     "iopub.execute_input": "2023-10-28T04:40:23.462985Z",
     "iopub.status.busy": "2023-10-28T04:40:23.462383Z",
     "iopub.status.idle": "2023-10-28T04:40:34.048584Z",
     "shell.execute_reply": "2023-10-28T04:40:34.046482Z"
    },
    "papermill": {
     "duration": 10.590614,
     "end_time": "2023-10-28T04:40:34.050289",
     "exception": true,
     "start_time": "2023-10-28T04:40:23.459675",
     "status": "failed"
    },
    "tags": []
   },
   "outputs": [
    {
     "ename": "FileNotFoundError",
     "evalue": "[Errno 2] No such file or directory: '/kaggle/working/Atopic Dermatitis.zip.zip'",
     "output_type": "error",
     "traceback": [
      "\u001b[0;31m---------------------------------------------------------------------------\u001b[0m",
      "\u001b[0;31mFileNotFoundError\u001b[0m                         Traceback (most recent call last)",
      "File \u001b[0;32m/opt/conda/lib/python3.10/shutil.py:816\u001b[0m, in \u001b[0;36mmove\u001b[0;34m(src, dst, copy_function)\u001b[0m\n\u001b[1;32m    815\u001b[0m \u001b[38;5;28;01mtry\u001b[39;00m:\n\u001b[0;32m--> 816\u001b[0m     \u001b[43mos\u001b[49m\u001b[38;5;241;43m.\u001b[39;49m\u001b[43mrename\u001b[49m\u001b[43m(\u001b[49m\u001b[43msrc\u001b[49m\u001b[43m,\u001b[49m\u001b[43m \u001b[49m\u001b[43mreal_dst\u001b[49m\u001b[43m)\u001b[49m\n\u001b[1;32m    817\u001b[0m \u001b[38;5;28;01mexcept\u001b[39;00m \u001b[38;5;167;01mOSError\u001b[39;00m:\n",
      "\u001b[0;31mFileNotFoundError\u001b[0m: [Errno 2] No such file or directory: '/kaggle/working/Atopic Dermatitis.zip.zip' -> '/kaggle/working/Atopic Dermatitis.zip.zip'",
      "\nDuring handling of the above exception, another exception occurred:\n",
      "\u001b[0;31mFileNotFoundError\u001b[0m                         Traceback (most recent call last)",
      "Cell \u001b[0;32mIn[3], line 13\u001b[0m\n\u001b[1;32m     10\u001b[0m shutil\u001b[38;5;241m.\u001b[39mmake_archive(zip_file_path[:\u001b[38;5;241m-\u001b[39m\u001b[38;5;241m4\u001b[39m], \u001b[38;5;124m'\u001b[39m\u001b[38;5;124mzip\u001b[39m\u001b[38;5;124m'\u001b[39m, augmented_data_path)\n\u001b[1;32m     12\u001b[0m \u001b[38;5;66;03m# Move the zip file to a downloadable location\u001b[39;00m\n\u001b[0;32m---> 13\u001b[0m \u001b[43mshutil\u001b[49m\u001b[38;5;241;43m.\u001b[39;49m\u001b[43mmove\u001b[49m\u001b[43m(\u001b[49m\u001b[43mzip_file_path\u001b[49m\u001b[43m \u001b[49m\u001b[38;5;241;43m+\u001b[39;49m\u001b[43m \u001b[49m\u001b[38;5;124;43m'\u001b[39;49m\u001b[38;5;124;43m.zip\u001b[39;49m\u001b[38;5;124;43m'\u001b[39;49m\u001b[43m,\u001b[49m\u001b[43m \u001b[49m\u001b[38;5;124;43m'\u001b[39;49m\u001b[38;5;124;43m/kaggle/working/\u001b[39;49m\u001b[38;5;124;43m'\u001b[39;49m\u001b[43m)\u001b[49m\n\u001b[1;32m     15\u001b[0m \u001b[38;5;66;03m# You can also move it to the /kaggle/working/ directory for easy access\u001b[39;00m\n\u001b[1;32m     16\u001b[0m \n\u001b[1;32m     17\u001b[0m \u001b[38;5;66;03m# Provide a download link for the zip file\u001b[39;00m\n\u001b[1;32m     18\u001b[0m \u001b[38;5;28mprint\u001b[39m(\u001b[38;5;124mf\u001b[39m\u001b[38;5;124m\"\u001b[39m\u001b[38;5;124mDownload your augmented data: [Download Zip](sandbox:/kaggle/working/\u001b[39m\u001b[38;5;132;01m{\u001b[39;00mzip_file_path\u001b[38;5;241m.\u001b[39msplit(\u001b[38;5;124m'\u001b[39m\u001b[38;5;124m/\u001b[39m\u001b[38;5;124m'\u001b[39m)[\u001b[38;5;241m-\u001b[39m\u001b[38;5;241m1\u001b[39m]\u001b[38;5;132;01m}\u001b[39;00m\u001b[38;5;124m)\u001b[39m\u001b[38;5;124m\"\u001b[39m)\n",
      "File \u001b[0;32m/opt/conda/lib/python3.10/shutil.py:836\u001b[0m, in \u001b[0;36mmove\u001b[0;34m(src, dst, copy_function)\u001b[0m\n\u001b[1;32m    834\u001b[0m         rmtree(src)\n\u001b[1;32m    835\u001b[0m     \u001b[38;5;28;01melse\u001b[39;00m:\n\u001b[0;32m--> 836\u001b[0m         \u001b[43mcopy_function\u001b[49m\u001b[43m(\u001b[49m\u001b[43msrc\u001b[49m\u001b[43m,\u001b[49m\u001b[43m \u001b[49m\u001b[43mreal_dst\u001b[49m\u001b[43m)\u001b[49m\n\u001b[1;32m    837\u001b[0m         os\u001b[38;5;241m.\u001b[39munlink(src)\n\u001b[1;32m    838\u001b[0m \u001b[38;5;28;01mreturn\u001b[39;00m real_dst\n",
      "File \u001b[0;32m/opt/conda/lib/python3.10/shutil.py:434\u001b[0m, in \u001b[0;36mcopy2\u001b[0;34m(src, dst, follow_symlinks)\u001b[0m\n\u001b[1;32m    432\u001b[0m \u001b[38;5;28;01mif\u001b[39;00m os\u001b[38;5;241m.\u001b[39mpath\u001b[38;5;241m.\u001b[39misdir(dst):\n\u001b[1;32m    433\u001b[0m     dst \u001b[38;5;241m=\u001b[39m os\u001b[38;5;241m.\u001b[39mpath\u001b[38;5;241m.\u001b[39mjoin(dst, os\u001b[38;5;241m.\u001b[39mpath\u001b[38;5;241m.\u001b[39mbasename(src))\n\u001b[0;32m--> 434\u001b[0m \u001b[43mcopyfile\u001b[49m\u001b[43m(\u001b[49m\u001b[43msrc\u001b[49m\u001b[43m,\u001b[49m\u001b[43m \u001b[49m\u001b[43mdst\u001b[49m\u001b[43m,\u001b[49m\u001b[43m \u001b[49m\u001b[43mfollow_symlinks\u001b[49m\u001b[38;5;241;43m=\u001b[39;49m\u001b[43mfollow_symlinks\u001b[49m\u001b[43m)\u001b[49m\n\u001b[1;32m    435\u001b[0m copystat(src, dst, follow_symlinks\u001b[38;5;241m=\u001b[39mfollow_symlinks)\n\u001b[1;32m    436\u001b[0m \u001b[38;5;28;01mreturn\u001b[39;00m dst\n",
      "File \u001b[0;32m/opt/conda/lib/python3.10/shutil.py:254\u001b[0m, in \u001b[0;36mcopyfile\u001b[0;34m(src, dst, follow_symlinks)\u001b[0m\n\u001b[1;32m    252\u001b[0m     os\u001b[38;5;241m.\u001b[39msymlink(os\u001b[38;5;241m.\u001b[39mreadlink(src), dst)\n\u001b[1;32m    253\u001b[0m \u001b[38;5;28;01melse\u001b[39;00m:\n\u001b[0;32m--> 254\u001b[0m     \u001b[38;5;28;01mwith\u001b[39;00m \u001b[38;5;28;43mopen\u001b[39;49m\u001b[43m(\u001b[49m\u001b[43msrc\u001b[49m\u001b[43m,\u001b[49m\u001b[43m \u001b[49m\u001b[38;5;124;43m'\u001b[39;49m\u001b[38;5;124;43mrb\u001b[39;49m\u001b[38;5;124;43m'\u001b[39;49m\u001b[43m)\u001b[49m \u001b[38;5;28;01mas\u001b[39;00m fsrc:\n\u001b[1;32m    255\u001b[0m         \u001b[38;5;28;01mtry\u001b[39;00m:\n\u001b[1;32m    256\u001b[0m             \u001b[38;5;28;01mwith\u001b[39;00m \u001b[38;5;28mopen\u001b[39m(dst, \u001b[38;5;124m'\u001b[39m\u001b[38;5;124mwb\u001b[39m\u001b[38;5;124m'\u001b[39m) \u001b[38;5;28;01mas\u001b[39;00m fdst:\n\u001b[1;32m    257\u001b[0m                 \u001b[38;5;66;03m# macOS\u001b[39;00m\n",
      "\u001b[0;31mFileNotFoundError\u001b[0m: [Errno 2] No such file or directory: '/kaggle/working/Atopic Dermatitis.zip.zip'"
     ]
    }
   ],
   "source": [
    "import shutil\n",
    "\n",
    "# Define the path to the augmented data folder\n",
    "augmented_data_path = '/kaggle/working/Augmented Data/Atopic Dermatitis/'\n",
    "\n",
    "# Define the path to save the zip file\n",
    "zip_file_path = '/kaggle/working/Atopic Dermatitis.zip'\n",
    "\n",
    "# Create a zip archive of the augmented data folder\n",
    "shutil.make_archive(zip_file_path[:-4], 'zip', augmented_data_path)\n",
    "\n",
    "# Move the zip file to a downloadable location\n",
    "shutil.move(zip_file_path + '.zip', '/kaggle/working/')\n",
    "\n",
    "# You can also move it to the /kaggle/working/ directory for easy access\n",
    "\n",
    "# Provide a download link for the zip file\n",
    "print(f\"Download your augmented data: [Download Zip](sandbox:/kaggle/working/{zip_file_path.split('/')[-1]})\")\n"
   ]
  }
 ],
 "metadata": {
  "kernelspec": {
   "display_name": "Python 3",
   "language": "python",
   "name": "python3"
  },
  "language_info": {
   "codemirror_mode": {
    "name": "ipython",
    "version": 3
   },
   "file_extension": ".py",
   "mimetype": "text/x-python",
   "name": "python",
   "nbconvert_exporter": "python",
   "pygments_lexer": "ipython3",
   "version": "3.10.12"
  },
  "papermill": {
   "default_parameters": {},
   "duration": 355.113117,
   "end_time": "2023-10-28T04:40:35.574488",
   "environment_variables": {},
   "exception": true,
   "input_path": "__notebook__.ipynb",
   "output_path": "__notebook__.ipynb",
   "parameters": {},
   "start_time": "2023-10-28T04:34:40.461371",
   "version": "2.4.0"
  }
 },
 "nbformat": 4,
 "nbformat_minor": 5
}
